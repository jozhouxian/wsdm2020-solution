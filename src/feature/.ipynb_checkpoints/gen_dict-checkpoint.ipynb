{
 "cells": [
  {
   "cell_type": "code",
   "execution_count": 18,
   "metadata": {},
   "outputs": [],
   "source": [
    "import warnings\n",
    "warnings.filterwarnings('always')\n",
    "warnings.filterwarnings('ignore')\n",
    "\n",
    "import os\n",
    "import sys\n",
    "import pickle\n",
    "import numpy as np\n",
    "import pandas as pd\n",
    "from tqdm import tqdm\n",
    "\n",
    "sys.path.append('../../tools/')\n",
    "import loader\n",
    "from nlp_preprocess import preprocess\n",
    "\n",
    "import time\n",
    "from datetime import datetime\n",
    "from gensim.models import Word2Vec\n",
    "from gensim.models.word2vec import LineSentence\n",
    "from gensim import corpora, models, similarities\n",
    "from gensim.similarities import SparseMatrixSimilarity\n",
    "from gensim.similarities import MatrixSimilarity\n",
    "from sklearn.metrics.pairwise import cosine_similarity as cos_sim\n",
    "from nltk import word_tokenize, pos_tag"
   ]
  },
  {
   "cell_type": "code",
   "execution_count": 2,
   "metadata": {},
   "outputs": [],
   "source": [
    "df = loader.load_df('../input/paper_input_final.ftr')\n",
    "tr = loader.load_df('../input/tr_input_final.ftr')\n",
    "te = loader.load_df('../input/te_input_final.ftr')"
   ]
  },
  {
   "cell_type": "code",
   "execution_count": 3,
   "metadata": {},
   "outputs": [],
   "source": [
    "df['keyw'] = df['keywords'].fillna('').replace(';', ' ')\n",
    "df['abst'] = df['abst'].apply(lambda s: s.replace('no_content', ''))\n",
    "df['corp'] = df['abst'] + ' ' + df['titl'] + ' ' + df['keyw']"
   ]
  },
  {
   "cell_type": "code",
   "execution_count": 4,
   "metadata": {},
   "outputs": [
    {
     "data": {
      "text/html": [
       "<div>\n",
       "<style scoped>\n",
       "    .dataframe tbody tr th:only-of-type {\n",
       "        vertical-align: middle;\n",
       "    }\n",
       "\n",
       "    .dataframe tbody tr th {\n",
       "        vertical-align: top;\n",
       "    }\n",
       "\n",
       "    .dataframe thead th {\n",
       "        text-align: right;\n",
       "    }\n",
       "</style>\n",
       "<table border=\"1\" class=\"dataframe\">\n",
       "  <thead>\n",
       "    <tr style=\"text-align: right;\">\n",
       "      <th></th>\n",
       "      <th>journal</th>\n",
       "      <th>keywords</th>\n",
       "      <th>paper_id</th>\n",
       "      <th>year</th>\n",
       "      <th>titl</th>\n",
       "      <th>abst</th>\n",
       "      <th>keyw</th>\n",
       "      <th>corp</th>\n",
       "    </tr>\n",
       "  </thead>\n",
       "  <tbody>\n",
       "    <tr>\n",
       "      <th>0</th>\n",
       "      <td>Journal of economic entomology</td>\n",
       "      <td>None</td>\n",
       "      <td>55a38b7f2401aa93797cef61</td>\n",
       "      <td>1978.0</td>\n",
       "      <td>anopheles stephensi effect gamma-radiation che...</td>\n",
       "      <td></td>\n",
       "      <td></td>\n",
       "      <td>anopheles stephensi effect gamma-radiation ch...</td>\n",
       "    </tr>\n",
       "    <tr>\n",
       "      <th>1</th>\n",
       "      <td>Science (New York, N.Y.)</td>\n",
       "      <td>None</td>\n",
       "      <td>55a4e85b612c6b12aafdb996</td>\n",
       "      <td>2002.0</td>\n",
       "      <td>ecology genetically modify mosquito</td>\n",
       "      <td>ecological population biology issue constitute...</td>\n",
       "      <td></td>\n",
       "      <td>ecological population biology issue constitute...</td>\n",
       "    </tr>\n",
       "    <tr>\n",
       "      <th>2</th>\n",
       "      <td>Bulletin of the World Health Organization</td>\n",
       "      <td>None</td>\n",
       "      <td>55a4cc5024011b361acddf6f</td>\n",
       "      <td>1972.0</td>\n",
       "      <td>persistence thiotepa tepa pupa adult culex pip...</td>\n",
       "      <td>thiotepa oxygen analogue tepa use chemosterili...</td>\n",
       "      <td></td>\n",
       "      <td>thiotepa oxygen analogue tepa use chemosterili...</td>\n",
       "    </tr>\n",
       "    <tr>\n",
       "      <th>3</th>\n",
       "      <td>Journal of economic entomology</td>\n",
       "      <td>None</td>\n",
       "      <td>55a56b4824012c2a39230188</td>\n",
       "      <td>1967.0</td>\n",
       "      <td>study eradication anopheles pharoensis sterile...</td>\n",
       "      <td></td>\n",
       "      <td></td>\n",
       "      <td>study eradication anopheles pharoensis steril...</td>\n",
       "    </tr>\n",
       "    <tr>\n",
       "      <th>4</th>\n",
       "      <td>Journal of the American Mosquito Control Assoc...</td>\n",
       "      <td>None</td>\n",
       "      <td>55a483792401032899721ae4</td>\n",
       "      <td>1987.0</td>\n",
       "      <td>method compute effectiveness insecticide</td>\n",
       "      <td></td>\n",
       "      <td></td>\n",
       "      <td>method compute effectiveness insecticide</td>\n",
       "    </tr>\n",
       "  </tbody>\n",
       "</table>\n",
       "</div>"
      ],
      "text/plain": [
       "                                             journal keywords  \\\n",
       "0                     Journal of economic entomology     None   \n",
       "1                           Science (New York, N.Y.)     None   \n",
       "2          Bulletin of the World Health Organization     None   \n",
       "3                     Journal of economic entomology     None   \n",
       "4  Journal of the American Mosquito Control Assoc...     None   \n",
       "\n",
       "                   paper_id    year  \\\n",
       "0  55a38b7f2401aa93797cef61  1978.0   \n",
       "1  55a4e85b612c6b12aafdb996  2002.0   \n",
       "2  55a4cc5024011b361acddf6f  1972.0   \n",
       "3  55a56b4824012c2a39230188  1967.0   \n",
       "4  55a483792401032899721ae4  1987.0   \n",
       "\n",
       "                                                titl  \\\n",
       "0  anopheles stephensi effect gamma-radiation che...   \n",
       "1                ecology genetically modify mosquito   \n",
       "2  persistence thiotepa tepa pupa adult culex pip...   \n",
       "3  study eradication anopheles pharoensis sterile...   \n",
       "4           method compute effectiveness insecticide   \n",
       "\n",
       "                                                abst keyw  \\\n",
       "0                                                           \n",
       "1  ecological population biology issue constitute...        \n",
       "2  thiotepa oxygen analogue tepa use chemosterili...        \n",
       "3                                                           \n",
       "4                                                           \n",
       "\n",
       "                                                corp  \n",
       "0   anopheles stephensi effect gamma-radiation ch...  \n",
       "1  ecological population biology issue constitute...  \n",
       "2  thiotepa oxygen analogue tepa use chemosterili...  \n",
       "3   study eradication anopheles pharoensis steril...  \n",
       "4          method compute effectiveness insecticide   "
      ]
     },
     "execution_count": 4,
     "metadata": {},
     "output_type": "execute_result"
    }
   ],
   "source": [
    "df.head()"
   ]
  },
  {
   "cell_type": "code",
   "execution_count": 11,
   "metadata": {},
   "outputs": [],
   "source": [
    "def text_list(docs):\n",
    "    texts = []\n",
    "    for i, doc in enumerate(docs):\n",
    "        texts.append([w for w in doc.strip('\\n').split(' ')])\n",
    "    return texts"
   ]
  },
  {
   "cell_type": "code",
   "execution_count": 12,
   "metadata": {},
   "outputs": [],
   "source": [
    "df_corp = text_list(df['corp'].tolist())\n",
    "paper_ids = df['paper_id'].tolist()"
   ]
  },
  {
   "cell_type": "code",
   "execution_count": 27,
   "metadata": {},
   "outputs": [],
   "source": [
    "df_abst = text_list(df['abst'].tolist())\n",
    "df_titl = text_list(df['titl'].tolist())"
   ]
  },
  {
   "cell_type": "code",
   "execution_count": 28,
   "metadata": {},
   "outputs": [
    {
     "data": {
      "text/plain": [
       "(838938, 838938)"
      ]
     },
     "execution_count": 28,
     "metadata": {},
     "output_type": "execute_result"
    }
   ],
   "source": [
    "len(df_abst), len(df_titl)"
   ]
  },
  {
   "cell_type": "code",
   "execution_count": 13,
   "metadata": {},
   "outputs": [
    {
     "data": {
      "text/plain": [
       "(838938, 838938)"
      ]
     },
     "execution_count": 13,
     "metadata": {},
     "output_type": "execute_result"
    }
   ],
   "source": [
    "len(df_corp), len(paper_ids)"
   ]
  },
  {
   "cell_type": "code",
   "execution_count": 14,
   "metadata": {},
   "outputs": [],
   "source": [
    "dictionary = corpora.Dictionary(df_corp)"
   ]
  },
  {
   "cell_type": "code",
   "execution_count": 15,
   "metadata": {},
   "outputs": [],
   "source": [
    "corpus = [dictionary.doc2bow(line) for line in df_corp]\n",
    "tfidf = models.TfidfModel(corpus)"
   ]
  },
  {
   "cell_type": "code",
   "execution_count": 16,
   "metadata": {},
   "outputs": [],
   "source": [
    "dictionary.save('../../feat/corpus.dict')\n",
    "tfidf.save('../../feat/tfidf.model')"
   ]
  },
  {
   "cell_type": "code",
   "execution_count": 19,
   "metadata": {},
   "outputs": [],
   "source": [
    "pickle.dump(paper_ids, open('../../feat/paper_ids.pkl', 'wb'))"
   ]
  },
  {
   "cell_type": "code",
   "execution_count": 23,
   "metadata": {},
   "outputs": [],
   "source": [
    "pickle.dump(corpus, open('../../feat/paper_corpus.pkl', 'wb'))"
   ]
  },
  {
   "cell_type": "code",
   "execution_count": 29,
   "metadata": {},
   "outputs": [],
   "source": [
    "abst_corpus = [dictionary.doc2bow(line) for line in df_abst]\n",
    "titl_corpus = [dictionary.doc2bow(line) for line in df_titl]"
   ]
  },
  {
   "cell_type": "code",
   "execution_count": 30,
   "metadata": {},
   "outputs": [],
   "source": [
    "pickle.dump(abst_corpus, open('../../feat/paper_abst.pkl', 'wb'))\n",
    "pickle.dump(titl_corpus, open('../../feat/paper_titl.pkl', 'wb'))"
   ]
  }
 ],
 "metadata": {
  "kernelspec": {
   "display_name": "Python 3",
   "language": "python",
   "name": "python3"
  },
  "language_info": {
   "codemirror_mode": {
    "name": "ipython",
    "version": 3
   },
   "file_extension": ".py",
   "mimetype": "text/x-python",
   "name": "python",
   "nbconvert_exporter": "python",
   "pygments_lexer": "ipython3",
   "version": "3.7.4"
  }
 },
 "nbformat": 4,
 "nbformat_minor": 2
}
